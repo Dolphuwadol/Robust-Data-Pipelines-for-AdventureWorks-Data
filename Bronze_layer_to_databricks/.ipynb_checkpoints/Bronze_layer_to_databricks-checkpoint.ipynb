{
 "cells": [
  {
   "cell_type": "markdown",
   "metadata": {
    "application/vnd.databricks.v1+cell": {
     "cellMetadata": {},
     "inputWidgets": {},
     "nuid": "14942df8-f24e-44d1-b17b-ac4132287728",
     "showTitle": false,
     "title": ""
    }
   },
   "source": [
    "โหลด Data เข้าสู่ Databricks โดยใช้ Azure Data Factory"
   ]
  },
  {
   "cell_type": "code",
   "execution_count": null,
   "metadata": {
    "application/vnd.databricks.v1+cell": {
     "cellMetadata": {
      "byteLimit": 2048000,
      "rowLimit": 10000
     },
     "inputWidgets": {},
     "nuid": "1d5b8b7f-f2ed-4d34-a69c-157c0ab09a4c",
     "showTitle": false,
     "title": ""
    }
   },
   "outputs": [
    {
     "data": {
      "text/plain": [
       "True"
      ]
     },
     "execution_count": 4,
     "metadata": {},
     "output_type": "execute_result"
    }
   ],
   "source": [
    "#mount a storage container\n",
    "# Bronze layer\n",
    "\"\"\"\n",
    "dbutils.fs.mount(\n",
    "    source = 'wasbs://bronze@medallionstorage.blob.core.windows.net',\n",
    "    mount_point='/mnt/bronze',\n",
    "    extra_configs = {'fs.azure.account.key.medallionstorage.blob.core.windows.net': dbutils.secrets.get('databricksScope', 'storageAccountKey')}\n",
    ")\n",
    "\"\"\""
   ]
  },
  {
   "cell_type": "code",
   "execution_count": null,
   "metadata": {
    "application/vnd.databricks.v1+cell": {
     "cellMetadata": {
      "byteLimit": 2048000,
      "rowLimit": 10000
     },
     "inputWidgets": {},
     "nuid": "3b2aa692-53a2-4cf2-8a2d-1d8c0a0f48df",
     "showTitle": false,
     "title": ""
    }
   },
   "outputs": [
    {
     "data": {
      "text/plain": [
       "True"
      ]
     },
     "execution_count": 7,
     "metadata": {},
     "output_type": "execute_result"
    }
   ],
   "source": [
    "# Sliver layer\n",
    "\"\"\"\n",
    "dbutils.fs.mount(\n",
    "    source = 'wasbs://sliver@medallionstorage.blob.core.windows.net',\n",
    "    mount_point='/mnt/sliver',\n",
    "    extra_configs = {'fs.azure.account.key.medallionstorage.blob.core.windows.net': dbutils.secrets.get('databricksScope', 'storageAccountKey')}\n",
    ")\n",
    "\"\"\""
   ]
  },
  {
   "cell_type": "code",
   "execution_count": null,
   "metadata": {
    "application/vnd.databricks.v1+cell": {
     "cellMetadata": {
      "byteLimit": 2048000,
      "rowLimit": 10000
     },
     "inputWidgets": {},
     "nuid": "fc634160-1be6-4526-8862-cd820221a4da",
     "showTitle": false,
     "title": ""
    }
   },
   "outputs": [
    {
     "data": {
      "text/plain": [
       "True"
      ]
     },
     "execution_count": 8,
     "metadata": {},
     "output_type": "execute_result"
    }
   ],
   "source": [
    "# Gold layer\n",
    "\"\"\"\n",
    "dbutils.fs.mount(\n",
    "    source = 'wasbs://gold@medallionstorage.blob.core.windows.net',\n",
    "    mount_point='/mnt/gold',\n",
    "    extra_configs = {'fs.azure.account.key.medallionstorage.blob.core.windows.net': dbutils.secrets.get('databricksScope', 'storageAccountKey')}\n",
    ")\n",
    "\"\"\""
   ]
  },
  {
   "cell_type": "code",
   "execution_count": null,
   "metadata": {
    "application/vnd.databricks.v1+cell": {
     "cellMetadata": {
      "byteLimit": 2048000,
      "rowLimit": 10000
     },
     "inputWidgets": {},
     "nuid": "b4210277-09c7-4355-aa6f-453c627c7c49",
     "showTitle": false,
     "title": ""
    }
   },
   "outputs": [
    {
     "data": {
      "text/plain": [
       "[FileInfo(path='dbfs:/mnt/bronze/20231219/SalesLT.Address.parquet', name='SalesLT.Address.parquet', size=35579, modificationTime=1702973340000),\n",
       " FileInfo(path='dbfs:/mnt/bronze/20231219/SalesLT.Customer.parquet', name='SalesLT.Customer.parquet', size=99900, modificationTime=1702973343000),\n",
       " FileInfo(path='dbfs:/mnt/bronze/20231219/SalesLT.CustomerAddress.parquet', name='SalesLT.CustomerAddress.parquet', size=21117, modificationTime=1702973349000),\n",
       " FileInfo(path='dbfs:/mnt/bronze/20231219/SalesLT.Product.parquet', name='SalesLT.Product.parquet', size=196043, modificationTime=1702973341000),\n",
       " FileInfo(path='dbfs:/mnt/bronze/20231219/SalesLT.ProductCategory.parquet', name='SalesLT.ProductCategory.parquet', size=3207, modificationTime=1702973342000),\n",
       " FileInfo(path='dbfs:/mnt/bronze/20231219/SalesLT.ProductDescription.parquet', name='SalesLT.ProductDescription.parquet', size=77524, modificationTime=1702973340000),\n",
       " FileInfo(path='dbfs:/mnt/bronze/20231219/SalesLT.ProductModel.parquet', name='SalesLT.ProductModel.parquet', size=11969, modificationTime=1702973342000),\n",
       " FileInfo(path='dbfs:/mnt/bronze/20231219/SalesLT.ProductModelProductDescription.parquet', name='SalesLT.ProductModelProductDescription.parquet', size=33580, modificationTime=1702973340000),\n",
       " FileInfo(path='dbfs:/mnt/bronze/20231219/SalesLT.SalesOrderDetail.parquet', name='SalesLT.SalesOrderDetail.parquet', size=30850, modificationTime=1702973342000),\n",
       " FileInfo(path='dbfs:/mnt/bronze/20231219/SalesLT.SalesOrderHeader.parquet', name='SalesLT.SalesOrderHeader.parquet', size=6955, modificationTime=1702973342000)]"
      ]
     },
     "execution_count": 6,
     "metadata": {},
     "output_type": "execute_result"
    }
   ],
   "source": [
    "#dbutils.fs.ls('/mnt/bronze/20231219')"
   ]
  },
  {
   "cell_type": "code",
   "execution_count": null,
   "metadata": {
    "application/vnd.databricks.v1+cell": {
     "cellMetadata": {
      "byteLimit": 2048000,
      "rowLimit": 10000
     },
     "inputWidgets": {},
     "nuid": "0299f171-c230-4b49-9444-86e71f57b73d",
     "showTitle": false,
     "title": ""
    }
   },
   "outputs": [
    {
     "data": {
      "text/plain": [
       "[]"
      ]
     },
     "execution_count": 10,
     "metadata": {},
     "output_type": "execute_result"
    }
   ],
   "source": [
    "#dbutils.fs.ls('/mnt/gold')"
   ]
  },
  {
   "cell_type": "code",
   "execution_count": null,
   "metadata": {
    "application/vnd.databricks.v1+cell": {
     "cellMetadata": {
      "byteLimit": 2048000,
      "rowLimit": 10000
     },
     "inputWidgets": {},
     "nuid": "23113428-daa3-44ed-9395-ee22438ddc65",
     "showTitle": false,
     "title": ""
    }
   },
   "outputs": [
    {
     "data": {
      "text/plain": [
       "DataFrame[]"
      ]
     },
     "execution_count": 11,
     "metadata": {},
     "output_type": "execute_result"
    }
   ],
   "source": [
    "#spark.sql('create database testing')"
   ]
  },
  {
   "cell_type": "code",
   "execution_count": null,
   "metadata": {
    "application/vnd.databricks.v1+cell": {
     "cellMetadata": {
      "byteLimit": 2048000,
      "rowLimit": 10000
     },
     "inputWidgets": {},
     "nuid": "1fc978fa-1436-4a09-afb3-7c26b2f77a65",
     "showTitle": false,
     "title": ""
    }
   },
   "outputs": [
    {
     "data": {
      "text/plain": [
       "DataFrame[]"
      ]
     },
     "execution_count": 12,
     "metadata": {},
     "output_type": "execute_result"
    }
   ],
   "source": [
    "#spark.sql('drop database testing')"
   ]
  },
  {
   "cell_type": "code",
   "execution_count": null,
   "metadata": {},
   "outputs": [],
   "source": [
    "# Get values from Databricks widgets\n",
    "fileName = dbutils.widgets.get('fileName')\n",
    "tableSchema = dbutils.widgets.get('table_schema')\n",
    "tableName = dbutils.widgets.get('table_name')\n",
    "\n",
    "# Create a database if it doesn't exist\n",
    "# Create database ถ้ามันไม่มี schema และ database\n",
    "spark.sql(f'CREATE DATABASE IF NOT EXISTS {tableSchema}')\n",
    "\n",
    "# Create a table if it doesn't exist in the specified schema and location\n",
    "# if ตารางนั้นไม่มีอยู่ใน database ให้ create ขึ้นมา\n",
    "# create ไปใน bronze\n",
    "# fileName : YYYYMMDD\n",
    "spark.sql(f\"\"\"\n",
    "    CREATE TABLE IF NOT EXISTS {tableSchema}.{tableName}\n",
    "    USING PARQUET\n",
    "    LOCATION '/mnt/bronze/{fileName}/{tableSchema}.{tableName}.parquet'\n",
    "\"\"\")"
   ]
  }
 ],
 "metadata": {
  "application/vnd.databricks.v1+notebook": {
   "dashboards": [],
   "language": "python",
   "notebookMetadata": {
    "pythonIndentUnit": 4
   },
   "notebookName": "Bronze_layer_to_databricks",
   "widgets": {}
  },
  "kernelspec": {
   "display_name": "Python 3 (ipykernel)",
   "language": "python",
   "name": "python3"
  },
  "language_info": {
   "codemirror_mode": {
    "name": "ipython",
    "version": 3
   },
   "file_extension": ".py",
   "mimetype": "text/x-python",
   "name": "python",
   "nbconvert_exporter": "python",
   "pygments_lexer": "ipython3",
   "version": "3.11.4"
  }
 },
 "nbformat": 4,
 "nbformat_minor": 4
}
